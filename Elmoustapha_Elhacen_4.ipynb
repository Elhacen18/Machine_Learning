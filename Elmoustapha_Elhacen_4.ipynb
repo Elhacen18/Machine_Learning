{
 "cells": [
  {
   "cell_type": "markdown",
   "id": "784317cf-baf6-4799-9914-e76d354d9515",
   "metadata": {},
   "source": [
    "## 1. Machine Learning (Classification)\r\n",
    "\r\n",
    "For the first question, I will be using the following models/estimators:\r\n",
    "\r\n",
    "- Support Vector Machines \r\n",
    "- k-nearest neighbors \r\n",
    "- Logistic regression \r\n",
    "\r\n",
    "### 1a Dataset: sklearn.datasets.lod_breat_cancer\r\n"
   ]
  },
  {
   "cell_type": "code",
   "execution_count": 203,
   "id": "1b09bc4f-40d4-4fa7-947d-3b942920c649",
   "metadata": {},
   "outputs": [
    {
     "name": "stdout",
     "output_type": "stream",
     "text": [
      "Requirement already satisfied: scikit-learn in c:\\users\\sidim\\anaconda3\\envs\\cse532\\lib\\site-packages (1.4.2)\n",
      "Requirement already satisfied: numpy>=1.19.5 in c:\\users\\sidim\\anaconda3\\envs\\cse532\\lib\\site-packages (from scikit-learn) (1.26.4)\n",
      "Requirement already satisfied: scipy>=1.6.0 in c:\\users\\sidim\\anaconda3\\envs\\cse532\\lib\\site-packages (from scikit-learn) (1.13.0)\n",
      "Requirement already satisfied: joblib>=1.2.0 in c:\\users\\sidim\\anaconda3\\envs\\cse532\\lib\\site-packages (from scikit-learn) (1.3.2)\n",
      "Requirement already satisfied: threadpoolctl>=2.0.0 in c:\\users\\sidim\\anaconda3\\envs\\cse532\\lib\\site-packages (from scikit-learn) (3.4.0)\n",
      "Note: you may need to restart the kernel to use updated packages.\n"
     ]
    }
   ],
   "source": [
    "pip install scikit-learn"
   ]
  },
  {
   "cell_type": "code",
   "execution_count": 204,
   "id": "d23f6451-2297-4f7e-8cc3-e1afb9674a1a",
   "metadata": {},
   "outputs": [
    {
     "name": "stdout",
     "output_type": "stream",
     "text": [
      "Requirement already satisfied: seaborn in c:\\users\\sidim\\anaconda3\\envs\\cse532\\lib\\site-packages (0.13.2)\n",
      "Requirement already satisfied: numpy!=1.24.0,>=1.20 in c:\\users\\sidim\\anaconda3\\envs\\cse532\\lib\\site-packages (from seaborn) (1.26.4)\n",
      "Requirement already satisfied: pandas>=1.2 in c:\\users\\sidim\\anaconda3\\envs\\cse532\\lib\\site-packages (from seaborn) (2.2.0)\n",
      "Requirement already satisfied: matplotlib!=3.6.1,>=3.4 in c:\\users\\sidim\\anaconda3\\envs\\cse532\\lib\\site-packages (from seaborn) (3.8.2)\n",
      "Requirement already satisfied: contourpy>=1.0.1 in c:\\users\\sidim\\anaconda3\\envs\\cse532\\lib\\site-packages (from matplotlib!=3.6.1,>=3.4->seaborn) (1.2.0)\n",
      "Requirement already satisfied: cycler>=0.10 in c:\\users\\sidim\\anaconda3\\envs\\cse532\\lib\\site-packages (from matplotlib!=3.6.1,>=3.4->seaborn) (0.12.1)\n",
      "Requirement already satisfied: fonttools>=4.22.0 in c:\\users\\sidim\\anaconda3\\envs\\cse532\\lib\\site-packages (from matplotlib!=3.6.1,>=3.4->seaborn) (4.48.1)\n",
      "Requirement already satisfied: kiwisolver>=1.3.1 in c:\\users\\sidim\\anaconda3\\envs\\cse532\\lib\\site-packages (from matplotlib!=3.6.1,>=3.4->seaborn) (1.4.5)\n",
      "Requirement already satisfied: packaging>=20.0 in c:\\users\\sidim\\anaconda3\\envs\\cse532\\lib\\site-packages (from matplotlib!=3.6.1,>=3.4->seaborn) (23.1)\n",
      "Requirement already satisfied: pillow>=8 in c:\\users\\sidim\\anaconda3\\envs\\cse532\\lib\\site-packages (from matplotlib!=3.6.1,>=3.4->seaborn) (10.2.0)\n",
      "Requirement already satisfied: pyparsing>=2.3.1 in c:\\users\\sidim\\anaconda3\\envs\\cse532\\lib\\site-packages (from matplotlib!=3.6.1,>=3.4->seaborn) (3.1.1)\n",
      "Requirement already satisfied: python-dateutil>=2.7 in c:\\users\\sidim\\anaconda3\\envs\\cse532\\lib\\site-packages (from matplotlib!=3.6.1,>=3.4->seaborn) (2.8.2)\n",
      "Requirement already satisfied: pytz>=2020.1 in c:\\users\\sidim\\anaconda3\\envs\\cse532\\lib\\site-packages (from pandas>=1.2->seaborn) (2023.3.post1)\n",
      "Requirement already satisfied: tzdata>=2022.7 in c:\\users\\sidim\\anaconda3\\envs\\cse532\\lib\\site-packages (from pandas>=1.2->seaborn) (2023.4)\n",
      "Requirement already satisfied: six>=1.5 in c:\\users\\sidim\\anaconda3\\envs\\cse532\\lib\\site-packages (from python-dateutil>=2.7->matplotlib!=3.6.1,>=3.4->seaborn) (1.16.0)\n",
      "Note: you may need to restart the kernel to use updated packages.\n"
     ]
    }
   ],
   "source": [
    "pip install seaborn"
   ]
  },
  {
   "cell_type": "code",
   "execution_count": 205,
   "id": "cefa362d-2595-4f88-9f71-fd36749786b2",
   "metadata": {},
   "outputs": [],
   "source": [
    "import pandas as pd\n",
    "import seaborn as sns\n",
    "import matplotlib.pyplot as plt\n",
    "import random\n",
    "from sklearn.metrics import confusion_matrix,accuracy_score\n",
    "from sklearn.neighbors import KNeighborsClassifier\n",
    "from sklearn.linear_model import LogisticRegression\n",
    "from sklearn.svm import SVC\n",
    "from sklearn.datasets import load_breast_cancer\n",
    "from sklearn.model_selection import train_test_split\n",
    "from sklearn.model_selection import cross_val_score\n",
    "from sklearn.model_selection import cross_val_predict, KFold\n"
   ]
  },
  {
   "cell_type": "markdown",
   "id": "a99879b1-efea-47a4-aa0e-16133e23ec0f",
   "metadata": {},
   "source": [
    "## part 1b\n",
    "\n"
   ]
  },
  {
   "cell_type": "code",
   "execution_count": 206,
   "id": "c2f8d2e3-9a2a-416b-b095-ca0c1efb6477",
   "metadata": {},
   "outputs": [],
   "source": [
    "Knn_model = KNeighborsClassifier()\n",
    "Svc_model=SVC()\n",
    "Logistic_model = LogisticRegression(solver='liblinear')\n"
   ]
  },
  {
   "cell_type": "code",
   "execution_count": 207,
   "id": "3501e0ad-5b2d-4653-b039-54fc5ff99250",
   "metadata": {},
   "outputs": [],
   "source": [
    "# \n",
    "\n",
    "estimators = {\n",
    "    'SVC': SVC(),\n",
    "    'KNeighborsClassifier': KNeighborsClassifier(), \n",
    "    'LogisticRegression': LogisticRegression(solver='liblinear')}"
   ]
  },
  {
   "cell_type": "code",
   "execution_count": 208,
   "id": "ce08d74b-1190-4897-8cd1-5eb4bd130187",
   "metadata": {},
   "outputs": [],
   "source": [
    "Data = load_breast_cancer()\n",
    "X = Data.data\n",
    "y = Data.target"
   ]
  },
  {
   "cell_type": "code",
   "execution_count": 209,
   "id": "c403ea33-1bdd-44cb-877d-55545a3b57a6",
   "metadata": {},
   "outputs": [
    {
     "name": "stdout",
     "output_type": "stream",
     "text": [
      "(569, 30)\n",
      "(569,)\n"
     ]
    }
   ],
   "source": [
    "print(X.shape)\n",
    "print(y.shape)"
   ]
  },
  {
   "cell_type": "markdown",
   "id": "e649b6f4-724c-4053-8f0d-0ff0343c5f32",
   "metadata": {},
   "source": [
    "## b) Using K=2 for cross validation"
   ]
  },
  {
   "cell_type": "code",
   "execution_count": 210,
   "id": "bc38dafb-ee71-475a-b9e8-172beae8b102",
   "metadata": {},
   "outputs": [
    {
     "name": "stdout",
     "output_type": "stream",
     "text": [
      "SVC mean accuracy=91.21%; standard deviation=0.34%\n",
      "KNeighborsClassifier mean accuracy=93.32%; standard deviation=0.34%\n",
      "LogisticRegression mean accuracy=94.55%; standard deviation=0.89%\n"
     ]
    }
   ],
   "source": [
    "#Using k=2 fold\n",
    "# change random state \n",
    "k_2_fold = KFold(n_splits=2, random_state=11, shuffle=True)\n",
    "\n",
    "\n",
    "for estimator_name, estimator_object in estimators.items():\n",
    "    scores = cross_val_score(estimator_object, X, y, cv=k_2_fold)\n",
    "    print(f'{estimator_name} mean accuracy={scores.mean():.2%}; ' +\n",
    "          f'standard deviation={scores.std():.2%}')"
   ]
  },
  {
   "cell_type": "markdown",
   "id": "ba428d7c-dfb5-43c1-a4a1-dfc0ace354de",
   "metadata": {},
   "source": [
    "Evaluating performance:<br>\n",
    "*Among of the three estimators/model, we can see that KNighbers and Logistice performace the best, and the SVC performaces the worset when using k=2*<br>\n",
    "*This analysis assume we are looking at the  *mean accuracy* for each model.<br>*\n",
    "****LogisticRegression Performes the best when using k=2****<br>s.\n",
    "\n",
    "\n"
   ]
  },
  {
   "cell_type": "markdown",
   "id": "ec3b1f87-770c-4294-bc29-4ac86229ccc1",
   "metadata": {},
   "source": [
    "## C) Using K=20"
   ]
  },
  {
   "cell_type": "code",
   "execution_count": 211,
   "id": "7f1c39f6-9698-4cc2-ac30-290e890eaed7",
   "metadata": {},
   "outputs": [
    {
     "name": "stdout",
     "output_type": "stream",
     "text": [
      "SVC mean accuracy=91.39%; standard deviation=6.40%\n",
      "KNeighborsClassifier mean accuracy=92.80%; standard deviation=4.48%\n",
      "LogisticRegression mean accuracy=95.43%; standard deviation=3.99%\n"
     ]
    }
   ],
   "source": [
    "# LogisticRegression\n",
    "k_20_fold = KFold(n_splits=20, random_state=50, shuffle=True)\n",
    "for estimator_name, estimator_object in estimators.items():\n",
    "    k_20_fold = KFold(n_splits=20, random_state=11, shuffle=True)\n",
    "    scores = cross_val_score(estimator_object, X, y, cv=k_20_fold)\n",
    "    print(f'{estimator_name} mean accuracy={scores.mean():.2%}; ' +\n",
    "          f'standard deviation={scores.std():.2%}')"
   ]
  },
  {
   "cell_type": "markdown",
   "id": "1e8d2749-c37d-4d5b-8e86-0bb0c9b06b1a",
   "metadata": {},
   "source": [
    "Evaluating performance:<br>\n",
    "*Among of the three estimators/model, we can see that KNighbers and Logistice performace the best, and the SVC performaces the worset when using k=2*<br>\n",
    "*This analysis assume we are looking at the  *mean accuracy* for each model.<br>*\n",
    "<br>****LogisticRegression still Performes the best when using k=20**** <br>\n",
    "r>"
   ]
  },
  {
   "cell_type": "markdown",
   "id": "4c9202ca-63ec-4919-a1d5-11d10fab6ec4",
   "metadata": {},
   "source": [
    "***20-fold vs 2-fold cross-validation:***<br>\n",
    "The only noticable difference between the classifiers when using K=20 and K=2 is the standard standard deviation. <br>\n",
    "standard deviation is higher when K=20 and lower when k=2. The accuracy for the classifier remian very close one another when using either k value.<br>\n",
    "## **Answer: Logistic Regression remian the  best when K=20** ##"
   ]
  },
  {
   "cell_type": "markdown",
   "id": "d68ffa22-276b-495a-bedc-5f7d9fed3408",
   "metadata": {},
   "source": [
    "## D) confusion matrix"
   ]
  },
  {
   "cell_type": "markdown",
   "id": "bd56f707-95a4-4ba2-8ce0-7d57f639b46f",
   "metadata": {},
   "source": []
  },
  {
   "cell_type": "code",
   "execution_count": 237,
   "id": "c96a6fd0-c687-4694-b80e-fa7c09ae3992",
   "metadata": {},
   "outputs": [
    {
     "name": "stdout",
     "output_type": "stream",
     "text": [
      "Confussion matrix for K=20 fold cross validation\n",
      "\n",
      "estimator: LogisticRegression \n",
      "conf_mat\n",
      "[[197  15]\n",
      " [ 11 346]]\n",
      "\n",
      "\n"
     ]
    },
    {
     "data": {
      "image/png": "[encoded data removed]",
      "text/plain": [
       "<Figure size 640x480 with 2 Axes>"
      ]
     },
     "metadata": {},
     "output_type": "display_data"
    }
   ],
   "source": [
    "print(\"Confussion matrix for K=20 fold cross validation\\n\")\n",
    "y_pred = cross_val_predict(Logistic_model, X, y, cv=k_20_fold)\n",
    "conf_matrix = confusion_matrix(y, y_pred)\n",
    "confusion_df = pd.DataFrame(conf_matrix)\n",
    "figure = plt.figure()\n",
    "axes = sns.heatmap(confusion_df,fmt='d', annot=True, \n",
    "                   cmap='coolwarm')\n",
    "print(f\"estimator: {estimator_name} \\nconf_mat\\n{conf_matrix}\")\n",
    "print(\"\\n\")"
   ]
  },
  {
   "cell_type": "markdown",
   "id": "fb46931c-3da2-4a6e-89da-388456ae81cb",
   "metadata": {},
   "source": [
    "## E) confusion matrix analysis."
   ]
  },
  {
   "cell_type": "markdown",
   "id": "77511276-2a5e-4765-be52-2dcccb30c30c",
   "metadata": {},
   "source": [
    "**True negatives (TN) = 197: These are instances where the classifier correctly identifies benign cases as benign(0)**<br>\n",
    "**False positives (FP) = 15: These are instances where the classifier incorrectly predicts benign cases as malignant(1)**<br>\n",
    "**False negatives (FN) = 11: These are instances where the classifier incorrectly predicts malignant cases as benign(0)**<br>\n",
    "**True positives (TP) = 346: These are instances where the classifier correctly identifies malignant cases as malignant(1)**<b>\n",
    "\n",
    "\n",
    "<br>**The classifier performs well in accurately identifying benign cases.\r\n",
    "However, there's a higher likelihood of misclassification for malignant cases, particularly with false negatives, which could have serious consequences in terms of patient care and treatment decisions**."
   ]
  },
  {
   "cell_type": "markdown",
   "id": "4331c8ff-ed25-4bda-9e41-35b1a33c3555",
   "metadata": {},
   "source": [
    "## 2. Machine Learning (Regression)\n"
   ]
  },
  {
   "cell_type": "code",
   "execution_count": null,
   "id": "15e35b1d-bcc3-465c-92d3-f0d37160004d",
   "metadata": {},
   "outputs": [],
   "source": []
  }
 ],
 "metadata": {
  "kernelspec": {
   "display_name": "Python 3 (ipykernel)",
   "language": "python",
   "name": "python3"
  },
  "language_info": {
   "codemirror_mode": {
    "name": "ipython",
    "version": 3
   },
   "file_extension": ".py",
   "mimetype": "text/x-python",
   "name": "python",
   "nbconvert_exporter": "python",
   "pygments_lexer": "ipython3",
   "version": "3.11.7"
  }
 },
 "nbformat": 4,
 "nbformat_minor": 5
}
